{
 "cells": [
  {
   "cell_type": "markdown",
   "id": "92d35a0a-f30e-49cf-ade3-5f1e889da56f",
   "metadata": {},
   "source": [
    "# Hopfield Network"
   ]
  },
  {
   "cell_type": "markdown",
   "id": "e4405a26-e5a5-40b0-833b-bfa16aac5cfa",
   "metadata": {},
   "source": [
    "This notebook provides a practical demonstration of Hopfield networks, a type of recurrent artificial neural network. Hopfield networks are known for their ability to store patterns and retrieve them from partial or noisy inputs, making them a simple model for associative memory.\n",
    "\n",
    "The Hopfield network is implemented as a class `HopfieldNetwork`.\n",
    "The class together with other useful functions is stored in the file `hopfield.py`."
   ]
  },
  {
   "cell_type": "code",
   "execution_count": 2,
   "id": "1ee73877-ca74-46a9-9ffe-cf5d6d5b65a8",
   "metadata": {},
   "outputs": [],
   "source": [
    "# Import modules\n",
    "import numpy as np\n",
    "import matplotlib.pyplot as plt\n",
    "import seaborn as sns\n",
    "\n",
    "# Import HopfiledNetwork class and other utility functions\n",
    "from hopfield import *"
   ]
  },
  {
   "cell_type": "markdown",
   "id": "0a407b35-9f6e-48bc-a736-25e964d3b3d0",
   "metadata": {},
   "source": [
    "## Load the dataset"
   ]
  },
  {
   "cell_type": "markdown",
   "id": "aeddaafd-bf12-4878-9c39-a9218608e7b4",
   "metadata": {},
   "source": [
    "First, we load the dataset containing patterns of the size $8 \\times 8$.\n",
    "They are stored in a file `patterns8.csv`. Each row of the file starts with a name of the pattern following by 64 itegers (-1 or +1).\n",
    "\n",
    "All patterns can be loaded using function `load_patterns()`. The function returns a dictionary, where _keys_ are the names of the patterns (strings) and _values_ are NumPy arrays storing the 64 pixels."
   ]
  },
  {
   "cell_type": "code",
   "execution_count": 3,
   "id": "c7ba52ea-9c28-43f0-baa2-31ea4ec11d5a",
   "metadata": {},
   "outputs": [
    {
     "name": "stdout",
     "output_type": "stream",
     "text": [
      "Number of patterns: 8\n",
      "Names of the patterns:\n",
      "   smile\n",
      "   alien\n",
      "   house\n",
      "   rocket\n",
      "   battery\n",
      "   cross\n",
      "   cat\n",
      "   car\n"
     ]
    }
   ],
   "source": [
    "patterns = load_patterns(\"patterns8.csv\")\n",
    "\n",
    "num_patterns = len(patterns)  # Number of loaded patterns\n",
    "\n",
    "# Print the names of the patterns\n",
    "print(f\"Number of patterns: {num_patterns:d}\")\n",
    "print(\"Names of the patterns:\")\n",
    "for name in patterns.keys():\n",
    "    print(f\"{' ':>3}{name:}\")"
   ]
  },
  {
   "cell_type": "markdown",
   "id": "6f8315bf-9f97-4d68-ba4a-741978454d90",
   "metadata": {},
   "source": [
    "You can display a pattern using `display_pattern` function. The input has to be a NumPy array of length 64 or (8,8). Moreover, you can set optional parameter:\n",
    "* width (integer): figure width in pixels (default 600)\n",
    "* height (iteger): figure height in pixels (default 600)\n",
    "* dpi (integer): dots per inch (default 96)\n",
    "* title (string): figure title (defaul None)"
   ]
  },
  {
   "cell_type": "code",
   "execution_count": 4,
   "id": "e1e59b12-4f54-4c66-ad81-074602aa789e",
   "metadata": {},
   "outputs": [
    {
     "data": {
      "image/png": "[encoded data removed]",
      "text/plain": [
       "<Figure size 400x400 with 1 Axes>"
      ]
     },
     "metadata": {},
     "output_type": "display_data"
    }
   ],
   "source": [
    "# Display pattern\n",
    "display_pattern(patterns[\"cat\"], width=400, height=400, dpi=96, title=\"this is a cat\")"
   ]
  },
  {
   "cell_type": "markdown",
   "id": "a7ff8790-14b5-4a25-b970-68df720bcfd5",
   "metadata": {},
   "source": [
    "You can use `display_pattern` function to save a picture by specifying the `figname` (string). \n",
    "It will save the picture as a png file."
   ]
  },
  {
   "cell_type": "code",
   "execution_count": 5,
   "id": "04da86f1-fba6-4f05-8a53-495db5593853",
   "metadata": {},
   "outputs": [],
   "source": [
    "# Name of the file\n",
    "figname = \"pattern_cat.png\"\n",
    "\n",
    "# Save figure\n",
    "display_pattern(patterns[\"cat\"], width=400, height=400, dpi=96, title=\"this is a cat\", figname=figname)"
   ]
  },
  {
   "cell_type": "markdown",
   "id": "83581ba7-110c-4154-ad70-057a50f2ca9e",
   "metadata": {},
   "source": [
    "## Hopfield Network"
   ]
  },
  {
   "cell_type": "markdown",
   "id": "9d7f1296-8205-4244-972c-c95bc23f0752",
   "metadata": {},
   "source": [
    "Hopfield Network is a fully connected neural network of $N$ neurons; each neuron has a direct connection to each other. The weigths between the nerons, $w_{ij}$, obeying conditions \n",
    "\\begin{align*}\n",
    "    w_{ii} &= 0\\,,\\\\\n",
    "    w_{ij} &= w_{ji}\\,, \n",
    "\\end{align*}    \n",
    "where $i, j \\in \\{1, 2, \\dots, N\\}$ are the indices of the neurons.\n",
    "For more informations on Hopfield Networks you can follow the links\n",
    "* [Wikipedia](https://en.wikipedia.org/wiki/Hopfield_network)\n",
    "* [geeksforgeeks.org](https://www.geeksforgeeks.org/hopfield-neural-network/)\n",
    "* [PRIMO.ai](https://primo.ai/index.php/Hopfield_Network_%28HN%29)"
   ]
  },
  {
   "cell_type": "markdown",
   "id": "162ae294-5f19-4bd2-92dd-103b9e2e35ba",
   "metadata": {},
   "source": [
    "Hore, Hopfield Network is implemented as a class called `HopfieldNetwork` defined in `hopfield.py`.\n",
    "To start using it we need to instantiate a new Hopfield network and specify number of neurons in the network by setting `n_neurons` (integer). \n",
    "\n",
    "To study patterns of $8\\times 8$ each pixel will be treated as an input to one neuron. Thus, the number of neurons has to be the same as the number of pixels `n_neurons = 64`."
   ]
  },
  {
   "cell_type": "code",
   "execution_count": 6,
   "id": "edd996ff-bb40-4b73-944d-813f7cb78e61",
   "metadata": {},
   "outputs": [],
   "source": [
    "# Instantiate a Hopfield Network\n",
    "hopnet = HopfieldNetwork(n_neurons=64)"
   ]
  },
  {
   "cell_type": "markdown",
   "id": "dd5bc09d-eeea-43c7-92c1-bc80efed19ff",
   "metadata": {},
   "source": [
    "All the weights of the Hopfield network are initialized to zero. The weights can be reviewed using method `get_weight()`, which returns a NumPy array containing all the weights of the Hopfield Network.\n"
   ]
  },
  {
   "cell_type": "code",
   "execution_count": 7,
   "id": "e9367d14-f8fa-4db0-818f-3d698d99a821",
   "metadata": {},
   "outputs": [
    {
     "name": "stdout",
     "output_type": "stream",
     "text": [
      "Weight matrix shape: (64, 64)\n",
      "Weights matrix:\n",
      "[[0. 0. 0. ... 0. 0. 0.]\n",
      " [0. 0. 0. ... 0. 0. 0.]\n",
      " [0. 0. 0. ... 0. 0. 0.]\n",
      " ...\n",
      " [0. 0. 0. ... 0. 0. 0.]\n",
      " [0. 0. 0. ... 0. 0. 0.]\n",
      " [0. 0. 0. ... 0. 0. 0.]]\n"
     ]
    }
   ],
   "source": [
    "# Get all weights of the Hopfield Network\n",
    "W0 = hopnet.get_weights()\n",
    "\n",
    "# Print shape of the weights matrix\n",
    "print(f\"Weight matrix shape: {W0.shape}\")\n",
    "# Print the weight matrix\n",
    "print(\"Weights matrix:\")\n",
    "print(W0)"
   ]
  },
  {
   "cell_type": "markdown",
   "id": "eb38d7d6-f844-4b91-af09-fefd6d00d62a",
   "metadata": {},
   "source": [
    "### Training"
   ]
  },
  {
   "cell_type": "markdown",
   "id": "a0c143b0-3e81-43b8-9fd9-baac5ce1cad5",
   "metadata": {},
   "source": [
    "Once having an initialized Hopfield Network, we can use training dataset to set its weights.\n",
    "For simplicity, we shall use just 4 patterns from the dictionary to train the network."
   ]
  },
  {
   "cell_type": "code",
   "execution_count": 8,
   "id": "81ed0944-abea-48bc-a6a0-a0da3f4a8795",
   "metadata": {},
   "outputs": [
    {
     "name": "stdout",
     "output_type": "stream",
     "text": [
      "Training dataset size: 4\n"
     ]
    }
   ],
   "source": [
    "# Prepare dataset for the training (first 4 patterns)\n",
    "dataset = list(patterns.values())[:4]\n",
    "\n",
    "# Print size of the training dataset\n",
    "print(f\"Training dataset size: {len(dataset):d}\")"
   ]
  },
  {
   "cell_type": "markdown",
   "id": "7cc82970-61db-410f-baa6-487c33bf0fb2",
   "metadata": {},
   "source": [
    "The traininig is done using `train()` method, which takes a list of training data as its argument."
   ]
  },
  {
   "cell_type": "code",
   "execution_count": 9,
   "id": "10536329-9cff-4fa0-81d7-ea48d6c151a8",
   "metadata": {},
   "outputs": [],
   "source": [
    "# Train Hopfield network using the training dataset\n",
    "hopnet.train(dataset)"
   ]
  },
  {
   "cell_type": "markdown",
   "id": "89d75567-e01b-4690-9fb4-a0dc604eb62a",
   "metadata": {},
   "source": [
    "Now, we can check the weight matrix. To visualize the trained weights we shall plot them as a heatmap.\n",
    "In the heatmap, each pixel represents one weight and its value is given by the color as shown on the colorscale."
   ]
  },
  {
   "cell_type": "code",
   "execution_count": 10,
   "id": "61bd5a62-b08a-4008-be8b-6be14ebfc350",
   "metadata": {},
   "outputs": [
    {
     "data": {
      "image/png": "[encoded data removed]",
      "text/plain": [
       "<Figure size 640x480 with 2 Axes>"
      ]
     },
     "metadata": {},
     "output_type": "display_data"
    }
   ],
   "source": [
    "# Get weights after the training\n",
    "W1 = hopnet.get_weights()\n",
    "\n",
    "# Plot weights\n",
    "ax = sns.heatmap(W1, cmap=\"coolwarm\")\n",
    "\n",
    "# Set custom ticks\n",
    "step = 3  # Define the step size\n",
    "x_ticks = np.arange(0, W1.shape[1], step)\n",
    "y_ticks = np.arange(0, W1.shape[0], step)\n",
    "\n",
    "ax.set_xticks(x_ticks + 0.5)\n",
    "ax.set_yticks(y_ticks + 0.5)\n",
    "ax.set_xticklabels(x_ticks + 1)\n",
    "ax.set_yticklabels(y_ticks + 1)\n",
    "\n",
    "# Set title and labels\n",
    "plt.title(r\"Hopfield Network weights $w_{ij}$\", size=14)\n",
    "plt.xlabel(r\"Neuron index $i$\", size=14)\n",
    "plt.ylabel(r\"Neuron index $j$\", size=14)\n",
    "\n",
    "plt.show()"
   ]
  },
  {
   "cell_type": "markdown",
   "id": "740c26f2-ddeb-4eb4-8ae8-1ff64e9401a9",
   "metadata": {},
   "source": [
    "Importantly, all the values on the main diagonal of the matrix are zero, since $w_{ii} = 0$.\n",
    "Moreover, the heatmap is symmetrix with respect to the main diagonal, size $w_{ij} = w_{ji}$."
   ]
  },
  {
   "cell_type": "markdown",
   "id": "a6b21f4a-be0a-4ab5-8af0-397388863c9b",
   "metadata": {},
   "source": [
    "## Use Hopfield Network"
   ]
  },
  {
   "cell_type": "markdown",
   "id": "bf4db0ed-7f0c-429c-a41b-c825e78f2f09",
   "metadata": {},
   "source": [
    "Finally, we can use the Hopfield network. That means, we have to initialize the values on the neurons and run the Hopfield network dynamics untill it converges to a stable pattern, which should be (hopefully) one of the training patterns."
   ]
  },
  {
   "cell_type": "markdown",
   "id": "173b6a2c-7ab7-442c-87c9-80c94566e67c",
   "metadata": {},
   "source": [
    "### Noisy input"
   ]
  },
  {
   "cell_type": "markdown",
   "id": "87630e37-dce2-4ad5-9838-6151cf566279",
   "metadata": {},
   "source": [
    "First, we use one of the training patterns and add noise. It means, we take certain randomly chosen subset of pixels and flip their values; $1 \\to -1$ and vice versa. This can be done using `generate_noisy_pattern` function. The arguments of this function are the original pattern (NumPy array) and `noise_level` (float), which is the fraction of pixels to flip (default 0.1)."
   ]
  },
  {
   "cell_type": "code",
   "execution_count": 11,
   "id": "c9891f0c-34a8-47bb-82af-cbb630b223b3",
   "metadata": {},
   "outputs": [],
   "source": [
    "# Generate noisy input\n",
    "noisy = generate_noisy_pattern(dataset[0], noise_level=0.2)"
   ]
  },
  {
   "cell_type": "markdown",
   "id": "bfe907ff-00c8-4006-97b6-097da0de2789",
   "metadata": {},
   "source": [
    "To inialize the weights of the Hopfield Network and run its dynamics we use `retrieve()` method.\n",
    "The inputs to the method are the initial pattern (NumPy array) and optional parameter `max_iterations`, which is the maximum number of iteration steps. The output of the method is the final stable state of the Hopfield Network."
   ]
  },
  {
   "cell_type": "code",
   "execution_count": 12,
   "id": "8f58b4a1-cc06-4981-b87b-2bb469969801",
   "metadata": {},
   "outputs": [],
   "source": [
    "# Retrieve pattern from the noisy input\n",
    "retrieved = hopnet.retrieve(noisy, max_iterations=50)"
   ]
  },
  {
   "cell_type": "markdown",
   "id": "ab17fb7f-d0ba-45ed-b0a4-96b95cba0213",
   "metadata": {},
   "source": [
    "Finally, we compare the initial (noisy) pattern with the final one."
   ]
  },
  {
   "cell_type": "code",
   "execution_count": 13,
   "id": "cc48ded5-edde-4686-bd4d-99f2af651968",
   "metadata": {},
   "outputs": [
    {
     "data": {
      "image/png": "[encoded data removed]",
      "text/plain": [
       "<Figure size 400x400 with 1 Axes>"
      ]
     },
     "metadata": {},
     "output_type": "display_data"
    },
    {
     "data": {
      "image/png": "[encoded data removed]",
      "text/plain": [
       "<Figure size 400x400 with 1 Axes>"
      ]
     },
     "metadata": {},
     "output_type": "display_data"
    }
   ],
   "source": [
    "display_pattern(noisy, width=400, height=400, title=\"Noisy Pattern\")\n",
    "display_pattern(retrieved, width=400, height=400, title=\"Retrieved Pattern\")"
   ]
  },
  {
   "cell_type": "markdown",
   "id": "58f234b4-92d4-4880-a444-b5e898ac92fd",
   "metadata": {},
   "source": [
    "This demonstrates, that the Hopfield Network dynamics leads to one of the training patterns."
   ]
  },
  {
   "cell_type": "markdown",
   "id": "f7a8cf62-d5eb-45ae-b49c-fb9537b6907e",
   "metadata": {},
   "source": [
    "### Partial input"
   ]
  },
  {
   "cell_type": "markdown",
   "id": "64a30e90-0407-4a94-b78d-671e2c1576b0",
   "metadata": {},
   "source": [
    "Second, we use the Hopfield Network to a partial image. We use one of the training samples and we set one half of the pixels in the image to -1."
   ]
  },
  {
   "cell_type": "code",
   "execution_count": 14,
   "id": "db5a4754-a6b1-40c0-b483-93616f149224",
   "metadata": {},
   "outputs": [
    {
     "data": {
      "image/png": "[encoded data removed]",
      "text/plain": [
       "<Figure size 400x400 with 1 Axes>"
      ]
     },
     "metadata": {},
     "output_type": "display_data"
    }
   ],
   "source": [
    "# Create a partial input\n",
    "partial = dataset[1].reshape(8,8)  # Reshape to 8x8 image\n",
    "partial[:,4:] = -1                 # set right half of the image pixels to -1\n",
    "partial = partial.reshape(-1)      # Reshape back to 1D NumPy array\n",
    "\n",
    "# Display the patter with hidden pixels\n",
    "display_pattern(partial, width=400, height=400, title=\"Half hidden pixels\")"
   ]
  },
  {
   "cell_type": "code",
   "execution_count": 15,
   "id": "767ea913-539d-403c-999b-5dc4311f7683",
   "metadata": {},
   "outputs": [
    {
     "data": {
      "image/png": "[encoded data removed]",
      "text/plain": [
       "<Figure size 400x400 with 1 Axes>"
      ]
     },
     "metadata": {},
     "output_type": "display_data"
    }
   ],
   "source": [
    "# Retrieve pattern from the partial input\n",
    "retrieved = hopnet.retrieve(partial, max_iterations=50)\n",
    "\n",
    "# Display the retrieved pattern\n",
    "display_pattern(retrieved, width=400, height=400, title=\"Retrieved Pattern\")"
   ]
  },
  {
   "cell_type": "markdown",
   "id": "8990cf85-9e4a-489a-b686-787253190ee3",
   "metadata": {},
   "source": [
    "The Hopfield Network was able to reconstract the partial image."
   ]
  },
  {
   "cell_type": "markdown",
   "id": "02dcf3b9-95d3-473a-a89e-33c574dc1df9",
   "metadata": {},
   "source": [
    "## Analysis"
   ]
  },
  {
   "cell_type": "markdown",
   "id": "35dfac43-df90-4623-b8f3-be34a95cf64e",
   "metadata": {},
   "source": [
    "If you want to analyze the work of Hopfield Network in more detail, you can use `retrieve_with_history()` method, which returns not only the final stable pattern, but also the history of all states (patterns) which occured throughout the network dynamics."
   ]
  },
  {
   "cell_type": "code",
   "execution_count": 17,
   "id": "f0f8b85a-27c1-4ed2-a545-683587328f20",
   "metadata": {},
   "outputs": [
    {
     "name": "stdout",
     "output_type": "stream",
     "text": [
      "Numbef of iterations: 13\n"
     ]
    }
   ],
   "source": [
    "history = hopnet.retrieve_with_history(noisy, max_iterations=50)\n",
    "\n",
    "print(f\"Numbef of iterations: {len(history):d}\")"
   ]
  },
  {
   "cell_type": "markdown",
   "id": "d3320d64-bfe7-499b-9189-096d6d2ff038",
   "metadata": {},
   "source": [
    "You can export all the patterns in history and use them to create a video or futher analysis."
   ]
  },
  {
   "cell_type": "code",
   "execution_count": 18,
   "id": "c1934edc-66c1-4d43-a896-23682149ac79",
   "metadata": {},
   "outputs": [],
   "source": [
    "for i, state in enumerate(history, start=1):\n",
    "    figname=f\"pattern_{i:02d}.png\"\n",
    "    display_pattern(state, width=400, height=400, dpi=96, figname=figname)"
   ]
  },
  {
   "cell_type": "markdown",
   "id": "0069d989-f73f-4670-9bf4-331f0ffd7fc8",
   "metadata": {},
   "source": [
    "Moreover, we can calculate the energy of the Hopfield Network.\n",
    "For a given configuration, the energy is given by\n",
    "\\begin{equation}\n",
    "    E = -\\frac{1}{2} \\sum_{i=1}^N \\sum_{j=1}^N w_{ij}\\, s_i\\, s_j\\,,\n",
    "\\end{equation}\n",
    "where $s_i$, and $s_j$ are the values on the $i$-th and $j$-th neurons, which can be $-1$ or $+1$.\n",
    "$w_{ij}$ is the weight of the connection between $i$-th and $j$-th neuron.\n",
    "The factor $1/2$ before the sum comes from the fact that both $w_{ij}$ and $w_{ji}$ are included in the sum, and we know that $w_{ij} = w_{ji}$.\n",
    "\n",
    "For a given pattern, the energy of the Hopfield Network can be obtained using `energy()` method.\n",
    "We can calculate energies of all patterns in the history as follows."
   ]
  },
  {
   "cell_type": "code",
   "execution_count": 19,
   "id": "8869e8cd-7383-4301-bb8b-4e4e8c753c62",
   "metadata": {},
   "outputs": [],
   "source": [
    "energy = [hopnet.energy(pattern) for pattern in history]"
   ]
  },
  {
   "cell_type": "markdown",
   "id": "86bf066d-e55d-46e2-bd3b-b79f473b71b1",
   "metadata": {},
   "source": [
    "We can plot how energy changes during the Hopfield Network dynamics."
   ]
  },
  {
   "cell_type": "code",
   "execution_count": 20,
   "id": "767f951e-0da5-4745-8c23-69127999859c",
   "metadata": {},
   "outputs": [
    {
     "data": {
      "image/png": "[encoded data removed]",
      "text/plain": [
       "<Figure size 640x480 with 1 Axes>"
      ]
     },
     "metadata": {},
     "output_type": "display_data"
    }
   ],
   "source": [
    "# Plot the energy dependence\n",
    "sns.scatterplot(energy)\n",
    "\n",
    "# Set title and labels\n",
    "plt.title(\"Hopfield Network Energy\", size=14)\n",
    "plt.xlabel(\"Iteration\", size=14)\n",
    "plt.ylabel(\"Energy\", size=14)\n",
    "\n",
    "plt.show()"
   ]
  },
  {
   "cell_type": "markdown",
   "id": "4a670599-a3e8-465f-90e9-a0b324ff7859",
   "metadata": {},
   "source": [
    "One can see that the energy of the Hopfield Network always decreases during the dynamics."
   ]
  },
  {
   "cell_type": "markdown",
   "id": "8cbab611-7d17-4cf7-b32d-d5d636c893f4",
   "metadata": {},
   "source": [
    "## How to cotinue"
   ]
  },
  {
   "cell_type": "markdown",
   "id": "96da51b3-6eb3-4085-8f7f-a60409c91bd6",
   "metadata": {},
   "source": [
    "* Try to train Hopfield Network using more training data. How does it change the reliability and performance of the networks?\n",
    "* Define your own patterns and train the Hopfield Network\n",
    "* Create bigger training images (eg. 10x10 or 12x12) and observe how the performace of the bigger Hopfield Network changes."
   ]
  },
  {
   "cell_type": "markdown",
   "id": "99db1347-8028-4ddf-b451-c7c3f9edbd47",
   "metadata": {},
   "source": [
    "## Additional reading"
   ]
  },
  {
   "cell_type": "markdown",
   "id": "695fd549-736b-44a9-8aa3-9de7ea6495d7",
   "metadata": {},
   "source": [
    "* [Wikipedia](https://en.wikipedia.org/wiki/Hopfield_network)\n",
    "* [geeksforgeeks.org](https://www.geeksforgeeks.org/hopfield-neural-network/)\n",
    "* [PRIMO.ai](https://primo.ai/index.php/Hopfield_Network_%28HN%29)"
   ]
  },
  {
   "cell_type": "code",
   "execution_count": null,
   "id": "22accb64-c162-45ad-9077-32bb234cbe0c",
   "metadata": {},
   "outputs": [],
   "source": []
  }
 ],
 "metadata": {
  "kernelspec": {
   "display_name": "Python 3 (ipykernel)",
   "language": "python",
   "name": "python3"
  },
  "language_info": {
   "codemirror_mode": {
    "name": "ipython",
    "version": 3
   },
   "file_extension": ".py",
   "mimetype": "text/x-python",
   "name": "python",
   "nbconvert_exporter": "python",
   "pygments_lexer": "ipython3",
   "version": "3.9.19"
  }
 },
 "nbformat": 4,
 "nbformat_minor": 5
}
